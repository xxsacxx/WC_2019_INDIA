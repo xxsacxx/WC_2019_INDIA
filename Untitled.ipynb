{
 "cells": [
  {
   "cell_type": "code",
   "execution_count": 52,
   "metadata": {},
   "outputs": [],
   "source": [
    "import pandas as pd\n",
    "import numpy as np\n"
   ]
  },
  {
   "cell_type": "code",
   "execution_count": 2,
   "metadata": {},
   "outputs": [],
   "source": [
    "df_bat=pd.read_csv('raw_csv/raina.csv')"
   ]
  },
  {
   "cell_type": "code",
   "execution_count": 3,
   "metadata": {},
   "outputs": [],
   "source": [
    "df_field=pd.read_csv('raw_csv/raina_field.csv')"
   ]
  },
  {
   "cell_type": "code",
   "execution_count": 4,
   "metadata": {},
   "outputs": [],
   "source": [
    "df_ball=pd.read_csv('raw_csv/raina_ball.csv')"
   ]
  },
  {
   "cell_type": "code",
   "execution_count": 5,
   "metadata": {},
   "outputs": [
    {
     "data": {
      "text/plain": [
       "226"
      ]
     },
     "execution_count": 5,
     "metadata": {},
     "output_type": "execute_result"
    }
   ],
   "source": [
    "len(df_bat)"
   ]
  },
  {
   "cell_type": "code",
   "execution_count": 6,
   "metadata": {},
   "outputs": [
    {
     "data": {
      "text/plain": [
       "106"
      ]
     },
     "execution_count": 6,
     "metadata": {},
     "output_type": "execute_result"
    }
   ],
   "source": [
    "len(df_ball)"
   ]
  },
  {
   "cell_type": "code",
   "execution_count": 7,
   "metadata": {},
   "outputs": [
    {
     "data": {
      "text/plain": [
       "227"
      ]
     },
     "execution_count": 7,
     "metadata": {},
     "output_type": "execute_result"
    }
   ],
   "source": [
    "len(df_field)"
   ]
  },
  {
   "cell_type": "code",
   "execution_count": 11,
   "metadata": {},
   "outputs": [],
   "source": [
    "df=pd.merge(df_bat, df_field, left_index=True, right_index=True)"
   ]
  },
  {
   "cell_type": "code",
   "execution_count": 13,
   "metadata": {},
   "outputs": [
    {
     "data": {
      "text/html": [
       "<div>\n",
       "<style scoped>\n",
       "    .dataframe tbody tr th:only-of-type {\n",
       "        vertical-align: middle;\n",
       "    }\n",
       "\n",
       "    .dataframe tbody tr th {\n",
       "        vertical-align: top;\n",
       "    }\n",
       "\n",
       "    .dataframe thead th {\n",
       "        text-align: right;\n",
       "    }\n",
       "</style>\n",
       "<table border=\"1\" class=\"dataframe\">\n",
       "  <thead>\n",
       "    <tr style=\"text-align: right;\">\n",
       "      <th></th>\n",
       "      <th>Date</th>\n",
       "      <th>Versus</th>\n",
       "      <th>Ground</th>\n",
       "      <th>How Dismissed</th>\n",
       "      <th>Runs</th>\n",
       "      <th>S/R</th>\n",
       "      <th>catches</th>\n",
       "      <th>aggregate</th>\n",
       "      <th>catches_wk</th>\n",
       "      <th>stumping_wk</th>\n",
       "      <th>agg_wk</th>\n",
       "      <th>age</th>\n",
       "    </tr>\n",
       "  </thead>\n",
       "  <tbody>\n",
       "    <tr>\n",
       "      <th>0</th>\n",
       "      <td>23/06/2007</td>\n",
       "      <td>Ireland</td>\n",
       "      <td>Civil Service Cricket Club</td>\n",
       "      <td>did not bat</td>\n",
       "      <td>-</td>\n",
       "      <td>-</td>\n",
       "      <td>1</td>\n",
       "      <td>1</td>\n",
       "      <td></td>\n",
       "      <td></td>\n",
       "      <td></td>\n",
       "      <td>20 years 54 days</td>\n",
       "    </tr>\n",
       "    <tr>\n",
       "      <th>1</th>\n",
       "      <td>26/06/2007</td>\n",
       "      <td>South Africa</td>\n",
       "      <td>Civil Service Cricket Club</td>\n",
       "      <td>b J H Kallis</td>\n",
       "      <td>8</td>\n",
       "      <td>88.89</td>\n",
       "      <td>1</td>\n",
       "      <td>2</td>\n",
       "      <td></td>\n",
       "      <td></td>\n",
       "      <td></td>\n",
       "      <td>20 years 57 days</td>\n",
       "    </tr>\n",
       "  </tbody>\n",
       "</table>\n",
       "</div>"
      ],
      "text/plain": [
       "         Date        Versus                      Ground How Dismissed Runs  \\\n",
       "0  23/06/2007       Ireland  Civil Service Cricket Club   did not bat    -   \n",
       "1  26/06/2007  South Africa  Civil Service Cricket Club  b J H Kallis    8   \n",
       "\n",
       "     S/R catches  aggregate catches_wk stumping_wk agg_wk               age  \n",
       "0      -       1          1                                20 years 54 days  \n",
       "1  88.89       1          2                                20 years 57 days  "
      ]
     },
     "execution_count": 13,
     "metadata": {},
     "output_type": "execute_result"
    }
   ],
   "source": [
    "df.head(2)"
   ]
  },
  {
   "cell_type": "code",
   "execution_count": 9,
   "metadata": {},
   "outputs": [],
   "source": [
    "def merge_bats_dfs(bat,field):\n",
    "    df_bat=pd.read_csv(bat)\n",
    "    df_field=pd.read_csv(field)\n",
    "    df=pd.merge(df_bat, df_field, left_index=True, right_index=True)\n",
    "    return(df)"
   ]
  },
  {
   "cell_type": "code",
   "execution_count": 28,
   "metadata": {},
   "outputs": [],
   "source": [
    "rohit=merge_bats_dfs('raw_csv/Rohit.csv','raw_csv/roh_field.csv')\n",
    "shikhar=merge_bats_dfs('raw_csv/Shikhar.csv','raw_csv/shik_field.csv')\n",
    "kl=merge_bats_dfs('raw_csv/KL.csv','raw_csv/kl_field.csv')\n",
    "ajinkya=merge_bats_dfs('raw_csv/Ajinkya.csv','raw_csv/aji_field.csv')\n",
    "vk = merge_bats_dfs('raw_csv/VK.csv','raw_csv/vk_field.csv')\n",
    "msd=merge_bats_dfs('raw_csv/MSD.csv','raw_csv/dhoni_field.csv')\n",
    "dk=merge_bats_dfs('raw_csv/DK.csv','raw_csv/dk_field.csv')\n",
    "raina=merge_bats_dfs('raw_csv/raina.csv','raw_csv/raina_field.csv')\n",
    "kuldeep=merge_bats_dfs('raw_csv/Kuldeep.csv','raw_csv/kul_field.csv')\n",
    "ashwin=merge_bats_dfs('raw_csv/ashwin.csv','raw_csv/ash_field.csv')\n",
    "bumrah=merge_bats_dfs('raw_csv/bumrah.csv','raw_csv/bum_field.csv')\n",
    "bhuvi=merge_bats_dfs('raw_csv/bhuvi.csv','raw_csv/bhuvi_field.csv')\n",
    "shami=merge_bats_dfs('raw_csv/shami.csv','raw_csv/shami_field.csv')\n",
    "thakur=merge_bats_dfs('raw_csv/Shradul.csv','raw_csv/thakur_field.csv')\n",
    "umesh=merge_bats_dfs('raw_csv/Umesh.csv','raw_csv/umesh_field.csv')\n",
    "pant=merge_bats_dfs('raw_csv/pant.csv','raw_csv/pant_field.csv')\n",
    "Pandeya=merge_bats_dfs('raw_csv/Pandeya.csv','raw_csv/pant_field.csv')\n",
    "Jadeja=merge_bats_dfs('raw_csv/Jaddu.csv','raw_csv/jaddu_field.csv')\n"
   ]
  },
  {
   "cell_type": "code",
   "execution_count": 17,
   "metadata": {},
   "outputs": [],
   "source": [
    "def split(df):\n",
    "    df_a = pd.DataFrame(df['How Dismissed'].str.split('b ',1).tolist(),\n",
    "                                       columns = ['flips','who_dismissed'])\n",
    "    return(df_a['who_dismissed'])\n"
   ]
  },
  {
   "cell_type": "code",
   "execution_count": 65,
   "metadata": {},
   "outputs": [],
   "source": [
    "def data_process(df):\n",
    "    df=df.replace(r'\\xc2\\xa0', np.nan, regex=True)\n",
    "    df=df.replace(r'-', np.nan, regex=True)\n",
    "    df=df.fillna(0)\n",
    "    df['Runs']=df['Runs'].str.replace(r'*', '', regex=True)\n",
    "    df[['Runs','S/R','catches']]=df[['Runs','S/R','catches']].apply(pd.to_numeric)\n",
    "    \n",
    "    return(df)"
   ]
  },
  {
   "cell_type": "code",
   "execution_count": 82,
   "metadata": {},
   "outputs": [],
   "source": [
    "def date_process(df):\n",
    "    \n",
    "    df_a = pd.DataFrame(df['age'].str.split('y',1).tolist(),\n",
    "                                           columns = ['old','l'])\n",
    "    df['age']=df_a['old']\n",
    "    df[['age']]=df[['age']].apply(pd.to_numeric)\n",
    "    df['Date'] =  pd.to_datetime(df['Date'])\n",
    "    return(df)"
   ]
  },
  {
   "cell_type": "code",
   "execution_count": 30,
   "metadata": {
    "scrolled": true
   },
   "outputs": [],
   "source": [
    "rohit['who_dismissed']=split(rohit)\n",
    "shikhar['who_dismissed']=split(shikhar)\n",
    "kl['who_dismissed']=split(kl)\n",
    "ajinkya['who_dismissed']=split(ajinkya)\n",
    "vk['who_dismissed'] = split(vk)\n",
    "msd['who_dismissed']=split(msd)\n",
    "dk['who_dismissed']=split(dk)\n",
    "raina['who_dismissed']=split(raina)\n",
    "kuldeep['who_dismissed']=split(kuldeep)\n",
    "ashwin['who_dismissed']=split(ashwin)\n",
    "bumrah['who_dismissed']=split(bumrah)\n",
    "bhuvi['who_dismissed']=split(bhuvi)\n",
    "shami['who_dismissed']=split(shami)\n",
    "thakur['who_dismissed']=split(thakur)\n",
    "umesh['who_dismissed']=split(umesh)\n",
    "pant['who_dismissed']=split(pant)\n",
    "Pandeya['who_dismissed']=split(Pandeya)\n",
    "Jadeja['who_dismissed']=split(Jadeja)"
   ]
  },
  {
   "cell_type": "code",
   "execution_count": 86,
   "metadata": {},
   "outputs": [],
   "source": [
    "rohit.to_csv('rohit.csv', encoding='utf-8', index=False)\n",
    "shikhar.to_csv('shikhar.csv', encoding='utf-8', index=False)\n",
    "kl.to_csv('kl.csv', encoding='utf-8', index=False)\n",
    "ajinkya.to_csv('ajinkya.csv', encoding='utf-8', index=False)\n",
    "vk.to_csv('vk.csv', encoding='utf-8', index=False)\n",
    "msd.to_csv('msd.csv', encoding='utf-8', index=False)\n",
    "dk.to_csv('dk.csv', encoding='utf-8', index=False)\n",
    "raina.to_csv('raina.csv', encoding='utf-8', index=False)\n",
    "kuldeep.to_csv('kuldeep.csv', encoding='utf-8', index=False)\n",
    "ashwin.to_csv('ashwin.csv', encoding='utf-8', index=False)\n",
    "bumrah.to_csv('bumrah.csv', encoding='utf-8', index=False)\n",
    "bhuvi.to_csv('bhuvi.csv', encoding='utf-8', index=False)\n",
    "shami.to_csv('shami.csv', encoding='utf-8', index=False)\n",
    "thakur.to_csv('thakur.csv', encoding='utf-8', index=False)\n",
    "umesh.to_csv('umesh.csv', encoding='utf-8', index=False)\n",
    "pant.to_csv('pant.csv', encoding='utf-8', index=False)\n",
    "Pandeya.to_csv('pandeya.csv', encoding='utf-8', index=False)\n",
    "Jadeja.to_csv('jadeja.csv', encoding='utf-8', index=False)\n"
   ]
  },
  {
   "cell_type": "code",
   "execution_count": 46,
   "metadata": {},
   "outputs": [],
   "source": [
    "rohit=country_name(rohit)\n",
    "shikhar=country_name(shikhar)\n",
    "kl=country_name(kl)\n",
    "ajinkya=country_name(ajinkya)\n",
    "vk = country_name(vk)\n",
    "msd=country_name(msd)\n",
    "dk=country_name(dk)\n",
    "raina=country_name(raina)\n",
    "kuldeep=country_name(kuldeep)\n",
    "ashwin=country_name(ashwin)\n",
    "bumrah=country_name(bumrah)\n",
    "bhuvi=country_name(bhuvi)\n",
    "shami=country_name(shami)\n",
    "thakur=country_name(thakur)\n",
    "umesh=country_name(umesh)\n",
    "pant=country_name(pant)\n",
    "Pandeya=country_name(Pandeya)\n",
    "Jadeja=country_name(Jadeja)"
   ]
  },
  {
   "cell_type": "code",
   "execution_count": 72,
   "metadata": {},
   "outputs": [
    {
     "ename": "AttributeError",
     "evalue": "Can only use .str accessor with string values, which use np.object_ dtype in pandas",
     "output_type": "error",
     "traceback": [
      "\u001b[0;31m---------------------------------------------------------------------------\u001b[0m",
      "\u001b[0;31mAttributeError\u001b[0m                            Traceback (most recent call last)",
      "\u001b[0;32m<ipython-input-72-78878e7d807a>\u001b[0m in \u001b[0;36m<module>\u001b[0;34m()\u001b[0m\n\u001b[0;32m----> 1\u001b[0;31m \u001b[0mrohit\u001b[0m\u001b[0;34m=\u001b[0m\u001b[0mdata_process\u001b[0m\u001b[0;34m(\u001b[0m\u001b[0mrohit\u001b[0m\u001b[0;34m)\u001b[0m\u001b[0;34m\u001b[0m\u001b[0m\n\u001b[0m\u001b[1;32m      2\u001b[0m \u001b[0mshikhar\u001b[0m\u001b[0;34m=\u001b[0m\u001b[0mdata_process\u001b[0m\u001b[0;34m(\u001b[0m\u001b[0mshikhar\u001b[0m\u001b[0;34m)\u001b[0m\u001b[0;34m\u001b[0m\u001b[0m\n\u001b[1;32m      3\u001b[0m \u001b[0mkl\u001b[0m\u001b[0;34m=\u001b[0m\u001b[0mdata_process\u001b[0m\u001b[0;34m(\u001b[0m\u001b[0mkl\u001b[0m\u001b[0;34m)\u001b[0m\u001b[0;34m\u001b[0m\u001b[0m\n\u001b[1;32m      4\u001b[0m \u001b[0majinkya\u001b[0m\u001b[0;34m=\u001b[0m\u001b[0mdata_process\u001b[0m\u001b[0;34m(\u001b[0m\u001b[0majinkya\u001b[0m\u001b[0;34m)\u001b[0m\u001b[0;34m\u001b[0m\u001b[0m\n\u001b[1;32m      5\u001b[0m \u001b[0mvk\u001b[0m \u001b[0;34m=\u001b[0m \u001b[0mdata_process\u001b[0m\u001b[0;34m(\u001b[0m\u001b[0mvk\u001b[0m\u001b[0;34m)\u001b[0m\u001b[0;34m\u001b[0m\u001b[0m\n",
      "\u001b[0;32m<ipython-input-65-5012359a4d64>\u001b[0m in \u001b[0;36mdata_process\u001b[0;34m(df)\u001b[0m\n\u001b[1;32m      3\u001b[0m     \u001b[0mdf\u001b[0m\u001b[0;34m=\u001b[0m\u001b[0mdf\u001b[0m\u001b[0;34m.\u001b[0m\u001b[0mreplace\u001b[0m\u001b[0;34m(\u001b[0m\u001b[0;34mr'-'\u001b[0m\u001b[0;34m,\u001b[0m \u001b[0mnp\u001b[0m\u001b[0;34m.\u001b[0m\u001b[0mnan\u001b[0m\u001b[0;34m,\u001b[0m \u001b[0mregex\u001b[0m\u001b[0;34m=\u001b[0m\u001b[0mTrue\u001b[0m\u001b[0;34m)\u001b[0m\u001b[0;34m\u001b[0m\u001b[0m\n\u001b[1;32m      4\u001b[0m     \u001b[0mdf\u001b[0m\u001b[0;34m=\u001b[0m\u001b[0mdf\u001b[0m\u001b[0;34m.\u001b[0m\u001b[0mfillna\u001b[0m\u001b[0;34m(\u001b[0m\u001b[0;36m0\u001b[0m\u001b[0;34m)\u001b[0m\u001b[0;34m\u001b[0m\u001b[0m\n\u001b[0;32m----> 5\u001b[0;31m     \u001b[0mdf\u001b[0m\u001b[0;34m[\u001b[0m\u001b[0;34m'Runs'\u001b[0m\u001b[0;34m]\u001b[0m\u001b[0;34m=\u001b[0m\u001b[0mdf\u001b[0m\u001b[0;34m[\u001b[0m\u001b[0;34m'Runs'\u001b[0m\u001b[0;34m]\u001b[0m\u001b[0;34m.\u001b[0m\u001b[0mstr\u001b[0m\u001b[0;34m.\u001b[0m\u001b[0mreplace\u001b[0m\u001b[0;34m(\u001b[0m\u001b[0;34mr'*'\u001b[0m\u001b[0;34m,\u001b[0m \u001b[0;34m''\u001b[0m\u001b[0;34m,\u001b[0m \u001b[0mregex\u001b[0m\u001b[0;34m=\u001b[0m\u001b[0mTrue\u001b[0m\u001b[0;34m)\u001b[0m\u001b[0;34m\u001b[0m\u001b[0m\n\u001b[0m\u001b[1;32m      6\u001b[0m     \u001b[0mdf\u001b[0m\u001b[0;34m[\u001b[0m\u001b[0;34m[\u001b[0m\u001b[0;34m'Runs'\u001b[0m\u001b[0;34m,\u001b[0m\u001b[0;34m'S/R'\u001b[0m\u001b[0;34m,\u001b[0m\u001b[0;34m'catches'\u001b[0m\u001b[0;34m]\u001b[0m\u001b[0;34m]\u001b[0m\u001b[0;34m=\u001b[0m\u001b[0mdf\u001b[0m\u001b[0;34m[\u001b[0m\u001b[0;34m[\u001b[0m\u001b[0;34m'Runs'\u001b[0m\u001b[0;34m,\u001b[0m\u001b[0;34m'S/R'\u001b[0m\u001b[0;34m,\u001b[0m\u001b[0;34m'catches'\u001b[0m\u001b[0;34m]\u001b[0m\u001b[0;34m]\u001b[0m\u001b[0;34m.\u001b[0m\u001b[0mapply\u001b[0m\u001b[0;34m(\u001b[0m\u001b[0mpd\u001b[0m\u001b[0;34m.\u001b[0m\u001b[0mto_numeric\u001b[0m\u001b[0;34m)\u001b[0m\u001b[0;34m\u001b[0m\u001b[0m\n\u001b[1;32m      7\u001b[0m     \u001b[0mdf\u001b[0m\u001b[0;34m=\u001b[0m\u001b[0mdf\u001b[0m\u001b[0;34m.\u001b[0m\u001b[0mfillna\u001b[0m\u001b[0;34m(\u001b[0m\u001b[0;36m0\u001b[0m\u001b[0;34m)\u001b[0m\u001b[0;34m\u001b[0m\u001b[0m\n",
      "\u001b[0;32m/Users/onion8/miniconda3/lib/python2.7/site-packages/pandas/core/generic.pyc\u001b[0m in \u001b[0;36m__getattr__\u001b[0;34m(self, name)\u001b[0m\n\u001b[1;32m   4370\u001b[0m         if (name in self._internal_names_set or name in self._metadata or\n\u001b[1;32m   4371\u001b[0m                 name in self._accessors):\n\u001b[0;32m-> 4372\u001b[0;31m             \u001b[0;32mreturn\u001b[0m \u001b[0mobject\u001b[0m\u001b[0;34m.\u001b[0m\u001b[0m__getattribute__\u001b[0m\u001b[0;34m(\u001b[0m\u001b[0mself\u001b[0m\u001b[0;34m,\u001b[0m \u001b[0mname\u001b[0m\u001b[0;34m)\u001b[0m\u001b[0;34m\u001b[0m\u001b[0m\n\u001b[0m\u001b[1;32m   4373\u001b[0m         \u001b[0;32melse\u001b[0m\u001b[0;34m:\u001b[0m\u001b[0;34m\u001b[0m\u001b[0m\n\u001b[1;32m   4374\u001b[0m             \u001b[0;32mif\u001b[0m \u001b[0mself\u001b[0m\u001b[0;34m.\u001b[0m\u001b[0m_info_axis\u001b[0m\u001b[0;34m.\u001b[0m\u001b[0m_can_hold_identifiers_and_holds_name\u001b[0m\u001b[0;34m(\u001b[0m\u001b[0mname\u001b[0m\u001b[0;34m)\u001b[0m\u001b[0;34m:\u001b[0m\u001b[0;34m\u001b[0m\u001b[0m\n",
      "\u001b[0;32m/Users/onion8/miniconda3/lib/python2.7/site-packages/pandas/core/accessor.pyc\u001b[0m in \u001b[0;36m__get__\u001b[0;34m(self, obj, cls)\u001b[0m\n\u001b[1;32m    131\u001b[0m             \u001b[0;31m# we're accessing the attribute of the class, i.e., Dataset.geo\u001b[0m\u001b[0;34m\u001b[0m\u001b[0;34m\u001b[0m\u001b[0m\n\u001b[1;32m    132\u001b[0m             \u001b[0;32mreturn\u001b[0m \u001b[0mself\u001b[0m\u001b[0;34m.\u001b[0m\u001b[0m_accessor\u001b[0m\u001b[0;34m\u001b[0m\u001b[0m\n\u001b[0;32m--> 133\u001b[0;31m         \u001b[0maccessor_obj\u001b[0m \u001b[0;34m=\u001b[0m \u001b[0mself\u001b[0m\u001b[0;34m.\u001b[0m\u001b[0m_accessor\u001b[0m\u001b[0;34m(\u001b[0m\u001b[0mobj\u001b[0m\u001b[0;34m)\u001b[0m\u001b[0;34m\u001b[0m\u001b[0m\n\u001b[0m\u001b[1;32m    134\u001b[0m         \u001b[0;31m# Replace the property with the accessor object. Inspired by:\u001b[0m\u001b[0;34m\u001b[0m\u001b[0;34m\u001b[0m\u001b[0m\n\u001b[1;32m    135\u001b[0m         \u001b[0;31m# http://www.pydanny.com/cached-property.html\u001b[0m\u001b[0;34m\u001b[0m\u001b[0;34m\u001b[0m\u001b[0m\n",
      "\u001b[0;32m/Users/onion8/miniconda3/lib/python2.7/site-packages/pandas/core/strings.pyc\u001b[0m in \u001b[0;36m__init__\u001b[0;34m(self, data)\u001b[0m\n\u001b[1;32m   1893\u001b[0m \u001b[0;34m\u001b[0m\u001b[0m\n\u001b[1;32m   1894\u001b[0m     \u001b[0;32mdef\u001b[0m \u001b[0m__init__\u001b[0m\u001b[0;34m(\u001b[0m\u001b[0mself\u001b[0m\u001b[0;34m,\u001b[0m \u001b[0mdata\u001b[0m\u001b[0;34m)\u001b[0m\u001b[0;34m:\u001b[0m\u001b[0;34m\u001b[0m\u001b[0m\n\u001b[0;32m-> 1895\u001b[0;31m         \u001b[0mself\u001b[0m\u001b[0;34m.\u001b[0m\u001b[0m_validate\u001b[0m\u001b[0;34m(\u001b[0m\u001b[0mdata\u001b[0m\u001b[0;34m)\u001b[0m\u001b[0;34m\u001b[0m\u001b[0m\n\u001b[0m\u001b[1;32m   1896\u001b[0m         \u001b[0mself\u001b[0m\u001b[0;34m.\u001b[0m\u001b[0m_is_categorical\u001b[0m \u001b[0;34m=\u001b[0m \u001b[0mis_categorical_dtype\u001b[0m\u001b[0;34m(\u001b[0m\u001b[0mdata\u001b[0m\u001b[0;34m)\u001b[0m\u001b[0;34m\u001b[0m\u001b[0m\n\u001b[1;32m   1897\u001b[0m \u001b[0;34m\u001b[0m\u001b[0m\n",
      "\u001b[0;32m/Users/onion8/miniconda3/lib/python2.7/site-packages/pandas/core/strings.pyc\u001b[0m in \u001b[0;36m_validate\u001b[0;34m(data)\u001b[0m\n\u001b[1;32m   1915\u001b[0m             \u001b[0;31m# (instead of test for object dtype), but that isn't practical for\u001b[0m\u001b[0;34m\u001b[0m\u001b[0;34m\u001b[0m\u001b[0m\n\u001b[1;32m   1916\u001b[0m             \u001b[0;31m# performance reasons until we have a str dtype (GH 9343)\u001b[0m\u001b[0;34m\u001b[0m\u001b[0;34m\u001b[0m\u001b[0m\n\u001b[0;32m-> 1917\u001b[0;31m             raise AttributeError(\"Can only use .str accessor with string \"\n\u001b[0m\u001b[1;32m   1918\u001b[0m                                  \u001b[0;34m\"values, which use np.object_ dtype in \"\u001b[0m\u001b[0;34m\u001b[0m\u001b[0m\n\u001b[1;32m   1919\u001b[0m                                  \"pandas\")\n",
      "\u001b[0;31mAttributeError\u001b[0m: Can only use .str accessor with string values, which use np.object_ dtype in pandas"
     ]
    }
   ],
   "source": [
    "rohit=data_process(rohit)\n",
    "shikhar=data_process(shikhar)\n",
    "kl=data_process(kl)\n",
    "ajinkya=data_process(ajinkya)\n",
    "vk = data_process(vk)\n",
    "msd=data_process(msd)\n",
    "dk=data_process(dk)\n",
    "raina=data_process(raina)\n",
    "kuldeep=data_process(kuldeep)\n",
    "ashwin=data_process(ashwin)\n",
    "bumrah=data_process(bumrah)\n",
    "bhuvi=data_process(bhuvi)\n",
    "shami=data_process(shami)\n",
    "thakur=data_process(thakur)\n",
    "umesh=data_process(umesh)\n",
    "pant=data_process(pant)\n",
    "Pandeya=data_process(Pandeya)\n",
    "Jadeja=data_process(Jadeja)"
   ]
  },
  {
   "cell_type": "code",
   "execution_count": 83,
   "metadata": {},
   "outputs": [],
   "source": [
    "rohit=date_process(rohit)\n",
    "shikhar=date_process(shikhar)\n",
    "kl=date_process(kl)\n",
    "ajinkya=date_process(ajinkya)\n",
    "vk = date_process(vk)\n",
    "msd=date_process(msd)\n",
    "dk=date_process(dk)\n",
    "raina=date_process(raina)\n",
    "kuldeep=date_process(kuldeep)\n",
    "ashwin=date_process(ashwin)\n",
    "bumrah=date_process(bumrah)\n",
    "bhuvi=date_process(bhuvi)\n",
    "shami=date_process(shami)\n",
    "thakur=date_process(thakur)\n",
    "umesh=date_process(umesh)\n",
    "pant=date_process(pant)\n",
    "Pandeya=date_process(Pandeya)\n",
    "Jadeja=date_process(Jadeja)\n",
    "\n"
   ]
  },
  {
   "cell_type": "code",
   "execution_count": 85,
   "metadata": {
    "scrolled": true
   },
   "outputs": [
    {
     "data": {
      "text/html": [
       "<div>\n",
       "<style scoped>\n",
       "    .dataframe tbody tr th:only-of-type {\n",
       "        vertical-align: middle;\n",
       "    }\n",
       "\n",
       "    .dataframe tbody tr th {\n",
       "        vertical-align: top;\n",
       "    }\n",
       "\n",
       "    .dataframe thead th {\n",
       "        text-align: right;\n",
       "    }\n",
       "</style>\n",
       "<table border=\"1\" class=\"dataframe\">\n",
       "  <thead>\n",
       "    <tr style=\"text-align: right;\">\n",
       "      <th></th>\n",
       "      <th>Date</th>\n",
       "      <th>Versus</th>\n",
       "      <th>Ground</th>\n",
       "      <th>How Dismissed</th>\n",
       "      <th>Runs</th>\n",
       "      <th>S/R</th>\n",
       "      <th>catches</th>\n",
       "      <th>aggregate</th>\n",
       "      <th>catches_wk</th>\n",
       "      <th>stumping_wk</th>\n",
       "      <th>agg_wk</th>\n",
       "      <th>age</th>\n",
       "      <th>who_dismissed</th>\n",
       "      <th>played_city</th>\n",
       "      <th>played_country</th>\n",
       "    </tr>\n",
       "  </thead>\n",
       "  <tbody>\n",
       "    <tr>\n",
       "      <th>0</th>\n",
       "      <td>2016-10-16</td>\n",
       "      <td>Sri Lanka</td>\n",
       "      <td>R Premadasa Stadium</td>\n",
       "      <td>not out</td>\n",
       "      <td>60.0</td>\n",
       "      <td>77.92</td>\n",
       "      <td>0</td>\n",
       "      <td>0</td>\n",
       "      <td>0.0</td>\n",
       "      <td>0.0</td>\n",
       "      <td>0.0</td>\n",
       "      <td>20</td>\n",
       "      <td>0</td>\n",
       "      <td>Colombo</td>\n",
       "      <td>Sri Lanka</td>\n",
       "    </tr>\n",
       "    <tr>\n",
       "      <th>1</th>\n",
       "      <td>2016-10-20</td>\n",
       "      <td>West Indies</td>\n",
       "      <td>Sabina Park</td>\n",
       "      <td>c †D Ramdin b D J J Bravo</td>\n",
       "      <td>0.0</td>\n",
       "      <td>0.00</td>\n",
       "      <td>1</td>\n",
       "      <td>1</td>\n",
       "      <td>0.0</td>\n",
       "      <td>0.0</td>\n",
       "      <td>0.0</td>\n",
       "      <td>20</td>\n",
       "      <td>D J J Bravo</td>\n",
       "      <td>Kingston, Jamaica</td>\n",
       "      <td>West Indies</td>\n",
       "    </tr>\n",
       "    <tr>\n",
       "      <th>2</th>\n",
       "      <td>2016-10-23</td>\n",
       "      <td>West Indies</td>\n",
       "      <td>Sabina Park</td>\n",
       "      <td>c †D Ramdin b R Rampaul</td>\n",
       "      <td>7.0</td>\n",
       "      <td>58.33</td>\n",
       "      <td>0</td>\n",
       "      <td>1</td>\n",
       "      <td>0.0</td>\n",
       "      <td>0.0</td>\n",
       "      <td>0.0</td>\n",
       "      <td>20</td>\n",
       "      <td>R Rampaul</td>\n",
       "      <td>Kingston, Jamaica</td>\n",
       "      <td>West Indies</td>\n",
       "    </tr>\n",
       "    <tr>\n",
       "      <th>3</th>\n",
       "      <td>2016-10-26</td>\n",
       "      <td>Australia</td>\n",
       "      <td>Reliance Stadium</td>\n",
       "      <td>lbw b N M Hauritz</td>\n",
       "      <td>5.0</td>\n",
       "      <td>38.46</td>\n",
       "      <td>0</td>\n",
       "      <td>1</td>\n",
       "      <td>0.0</td>\n",
       "      <td>0.0</td>\n",
       "      <td>0.0</td>\n",
       "      <td>20</td>\n",
       "      <td>N M Hauritz</td>\n",
       "      <td>Vadodara</td>\n",
       "      <td>India</td>\n",
       "    </tr>\n",
       "    <tr>\n",
       "      <th>4</th>\n",
       "      <td>2018-07-02</td>\n",
       "      <td>New Zealand</td>\n",
       "      <td>Reliance Stadium</td>\n",
       "      <td>did not bat</td>\n",
       "      <td>NaN</td>\n",
       "      <td>0.00</td>\n",
       "      <td>0</td>\n",
       "      <td>11</td>\n",
       "      <td>0.0</td>\n",
       "      <td>0.0</td>\n",
       "      <td>0.0</td>\n",
       "      <td>21</td>\n",
       "      <td>0</td>\n",
       "      <td>Vadodara</td>\n",
       "      <td>India</td>\n",
       "    </tr>\n",
       "  </tbody>\n",
       "</table>\n",
       "</div>"
      ],
      "text/plain": [
       "        Date       Versus               Ground              How Dismissed  \\\n",
       "0 2016-10-16    Sri Lanka  R Premadasa Stadium                    not out   \n",
       "1 2016-10-20  West Indies          Sabina Park  c †D Ramdin b D J J Bravo   \n",
       "2 2016-10-23  West Indies          Sabina Park    c †D Ramdin b R Rampaul   \n",
       "3 2016-10-26    Australia     Reliance Stadium          lbw b N M Hauritz   \n",
       "4 2018-07-02  New Zealand     Reliance Stadium                did not bat   \n",
       "\n",
       "   Runs    S/R  catches  aggregate  catches_wk  stumping_wk  agg_wk  age  \\\n",
       "0  60.0  77.92        0          0         0.0          0.0     0.0   20   \n",
       "1   0.0   0.00        1          1         0.0          0.0     0.0   20   \n",
       "2   7.0  58.33        0          1         0.0          0.0     0.0   20   \n",
       "3   5.0  38.46        0          1         0.0          0.0     0.0   20   \n",
       "4   NaN   0.00        0         11         0.0          0.0     0.0   21   \n",
       "\n",
       "  who_dismissed        played_city played_country  \n",
       "0             0            Colombo      Sri Lanka  \n",
       "1   D J J Bravo  Kingston, Jamaica    West Indies  \n",
       "2     R Rampaul  Kingston, Jamaica    West Indies  \n",
       "3   N M Hauritz           Vadodara          India  \n",
       "4             0           Vadodara          India  "
      ]
     },
     "execution_count": 85,
     "metadata": {},
     "output_type": "execute_result"
    }
   ],
   "source": [
    "Jadeja.head(5)"
   ]
  },
  {
   "cell_type": "code",
   "execution_count": 37,
   "metadata": {},
   "outputs": [],
   "source": [
    "df_gr=pd.read_csv('/Users/onion8/wc2019/raw_csv/ground.csv')"
   ]
  },
  {
   "cell_type": "code",
   "execution_count": 40,
   "metadata": {
    "scrolled": true
   },
   "outputs": [],
   "source": [
    "df_gr.columns=['Ground','played_city','played_country']"
   ]
  },
  {
   "cell_type": "code",
   "execution_count": 41,
   "metadata": {
    "scrolled": true
   },
   "outputs": [
    {
     "data": {
      "text/html": [
       "<div>\n",
       "<style scoped>\n",
       "    .dataframe tbody tr th:only-of-type {\n",
       "        vertical-align: middle;\n",
       "    }\n",
       "\n",
       "    .dataframe tbody tr th {\n",
       "        vertical-align: top;\n",
       "    }\n",
       "\n",
       "    .dataframe thead th {\n",
       "        text-align: right;\n",
       "    }\n",
       "</style>\n",
       "<table border=\"1\" class=\"dataframe\">\n",
       "  <thead>\n",
       "    <tr style=\"text-align: right;\">\n",
       "      <th></th>\n",
       "      <th>Ground</th>\n",
       "      <th>played_city</th>\n",
       "      <th>played_country</th>\n",
       "    </tr>\n",
       "  </thead>\n",
       "  <tbody>\n",
       "    <tr>\n",
       "      <th>0</th>\n",
       "      <td>Adelaide Oval</td>\n",
       "      <td>Adelaide</td>\n",
       "      <td>Australia</td>\n",
       "    </tr>\n",
       "    <tr>\n",
       "      <th>1</th>\n",
       "      <td>Aga Khan Sports Club Ground</td>\n",
       "      <td>Nairobi</td>\n",
       "      <td>Kenya</td>\n",
       "    </tr>\n",
       "    <tr>\n",
       "      <th>2</th>\n",
       "      <td>Albion Sports Complex</td>\n",
       "      <td>Albion, Berbice, Guyana</td>\n",
       "      <td>West Indies</td>\n",
       "    </tr>\n",
       "    <tr>\n",
       "      <th>3</th>\n",
       "      <td>AMI Stadium</td>\n",
       "      <td>Christchurch</td>\n",
       "      <td>New Zealand</td>\n",
       "    </tr>\n",
       "    <tr>\n",
       "      <th>4</th>\n",
       "      <td>Amini Park</td>\n",
       "      <td>Port Moresby</td>\n",
       "      <td>Papua New Guinea</td>\n",
       "    </tr>\n",
       "    <tr>\n",
       "      <th>5</th>\n",
       "      <td>Antigua Recreation Ground</td>\n",
       "      <td>St. John's, Antigua</td>\n",
       "      <td>West Indies</td>\n",
       "    </tr>\n",
       "    <tr>\n",
       "      <th>6</th>\n",
       "      <td>Arbab Niaz Stadium</td>\n",
       "      <td>Peshawar</td>\n",
       "      <td>Pakistan</td>\n",
       "    </tr>\n",
       "    <tr>\n",
       "      <th>7</th>\n",
       "      <td>Arnos Vale Ground</td>\n",
       "      <td>Kingstown, St. Vincent</td>\n",
       "      <td>West Indies</td>\n",
       "    </tr>\n",
       "    <tr>\n",
       "      <th>8</th>\n",
       "      <td>Asgiriya Stadium</td>\n",
       "      <td>Kandy</td>\n",
       "      <td>Sri Lanka</td>\n",
       "    </tr>\n",
       "    <tr>\n",
       "      <th>9</th>\n",
       "      <td>Ayub National Stadium</td>\n",
       "      <td>Quetta</td>\n",
       "      <td>Pakistan</td>\n",
       "    </tr>\n",
       "  </tbody>\n",
       "</table>\n",
       "</div>"
      ],
      "text/plain": [
       "                        Ground              played_city    played_country\n",
       "0                Adelaide Oval                 Adelaide         Australia\n",
       "1  Aga Khan Sports Club Ground                  Nairobi             Kenya\n",
       "2        Albion Sports Complex  Albion, Berbice, Guyana       West Indies\n",
       "3                  AMI Stadium             Christchurch       New Zealand\n",
       "4                   Amini Park             Port Moresby  Papua New Guinea\n",
       "5    Antigua Recreation Ground      St. John's, Antigua       West Indies\n",
       "6           Arbab Niaz Stadium                 Peshawar          Pakistan\n",
       "7            Arnos Vale Ground   Kingstown, St. Vincent       West Indies\n",
       "8             Asgiriya Stadium                    Kandy         Sri Lanka\n",
       "9        Ayub National Stadium                   Quetta          Pakistan"
      ]
     },
     "execution_count": 41,
     "metadata": {},
     "output_type": "execute_result"
    }
   ],
   "source": [
    "df_gr.head(10)"
   ]
  },
  {
   "cell_type": "code",
   "execution_count": 42,
   "metadata": {},
   "outputs": [],
   "source": [
    "pd.merge(df,df_gr,on='Ground')"
   ]
  },
  {
   "cell_type": "code",
   "execution_count": 45,
   "metadata": {},
   "outputs": [],
   "source": [
    "def country_name(df):\n",
    "    df=pd.merge(df,df_gr,on='Ground')\n",
    "    return(df)"
   ]
  },
  {
   "cell_type": "code",
   "execution_count": 87,
   "metadata": {},
   "outputs": [],
   "source": [
    "%matplotlib inline\n",
    "import matplotlib.pyplot as plt\n"
   ]
  },
  {
   "cell_type": "code",
   "execution_count": 93,
   "metadata": {
    "scrolled": true
   },
   "outputs": [
    {
     "data": {
      "text/plain": [
       "[<matplotlib.lines.Line2D at 0x11d25e650>]"
      ]
     },
     "execution_count": 93,
     "metadata": {},
     "output_type": "execute_result"
    },
    {
     "data": {
      "image/png": "[encoded data removed]",
      "text/plain": [
       "<matplotlib.figure.Figure at 0x11cc5d9d0>"
      ]
     },
     "metadata": {
      "needs_background": "light"
     },
     "output_type": "display_data"
    }
   ],
   "source": [
    "x = np.linspace(0, 10, 100)\n",
    "\n",
    "\n",
    "plt.figure()  # create a plot figure\n",
    "\n",
    "# create the first of two panels and set current axis\n",
    "plt.subplot(2, 1, 1) # (rows, columns, panel number)\n",
    "plt.plot(x, np.sin(x))\n",
    "\n",
    "# create the second panel and set current axis\n",
    "plt.subplot(2, 1, 2)\n",
    "plt.plot(x, np.cos(x))\n",
    "\n",
    "plt.subplot(2, 1, 1) # (rows, columns, panel number)\n",
    "plt.plot(x, np.cos(x))"
   ]
  },
  {
   "cell_type": "code",
   "execution_count": 94,
   "metadata": {
    "scrolled": true
   },
   "outputs": [
    {
     "data": {
      "text/plain": [
       "[<matplotlib.lines.Line2D at 0x11d3f2f50>]"
      ]
     },
     "execution_count": 94,
     "metadata": {},
     "output_type": "execute_result"
    },
    {
     "data": {
      "image/png": "[encoded data removed]",
      "text/plain": [
       "<matplotlib.figure.Figure at 0x11ccc3750>"
      ]
     },
     "metadata": {
      "needs_background": "light"
     },
     "output_type": "display_data"
    }
   ],
   "source": [
    "# First create a grid of plots\n",
    "# ax will be an array of two Axes objects\n",
    "fig, ax = plt.subplots(2)\n",
    "\n",
    "# Call plot() method on the appropriate object\n",
    "ax[0].plot(x, np.sin(x))\n",
    "ax[1].plot(x, np.cos(x))\n",
    "ax[0].plot(x, np.cos(x))"
   ]
  },
  {
   "cell_type": "code",
   "execution_count": 99,
   "metadata": {},
   "outputs": [],
   "source": [
    "data = np.random.randn(10)"
   ]
  },
  {
   "cell_type": "code",
   "execution_count": 100,
   "metadata": {},
   "outputs": [
    {
     "data": {
      "text/plain": [
       "array([ 0.01913547,  0.69598023, -0.36332317, -0.57442346, -2.09939285,\n",
       "        0.10099638, -0.08242134,  1.10282287, -0.33739578, -0.98664597])"
      ]
     },
     "execution_count": 100,
     "metadata": {},
     "output_type": "execute_result"
    }
   ],
   "source": [
    "data"
   ]
  },
  {
   "cell_type": "code",
   "execution_count": 101,
   "metadata": {},
   "outputs": [
    {
     "data": {
      "text/plain": [
       "(array([1., 0., 0., 1., 1., 2., 3., 0., 1., 1.]),\n",
       " array([-2.09939285, -1.77917128, -1.45894971, -1.13872813, -0.81850656,\n",
       "        -0.49828499, -0.17806342,  0.14215815,  0.46237972,  0.7826013 ,\n",
       "         1.10282287]),\n",
       " <a list of 10 Patch objects>)"
      ]
     },
     "execution_count": 101,
     "metadata": {},
     "output_type": "execute_result"
    },
    {
     "data": {
      "image/png": "[encoded data removed]",
      "text/plain": [
       "<matplotlib.figure.Figure at 0x11d5b2310>"
      ]
     },
     "metadata": {
      "needs_background": "light"
     },
     "output_type": "display_data"
    }
   ],
   "source": [
    "plt.hist(data)"
   ]
  }
 ],
 "metadata": {
  "kernelspec": {
   "display_name": "Python 2",
   "language": "python",
   "name": "python2"
  },
  "language_info": {
   "codemirror_mode": {
    "name": "ipython",
    "version": 2
   },
   "file_extension": ".py",
   "mimetype": "text/x-python",
   "name": "python",
   "nbconvert_exporter": "python",
   "pygments_lexer": "ipython2",
   "version": "2.7.15"
  }
 },
 "nbformat": 4,
 "nbformat_minor": 2
}
