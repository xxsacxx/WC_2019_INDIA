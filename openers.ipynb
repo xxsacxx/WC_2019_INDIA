{
 "cells": [
  {
   "cell_type": "code",
   "execution_count": 13,
   "metadata": {},
   "outputs": [],
   "source": [
    "import pandas as pd\n",
    "import numpy as np\n",
    "%matplotlib inline\n",
    "import matplotlib.pyplot as plt\n",
    "plt.style.use('seaborn-whitegrid')\n",
    "import seaborn as sns"
   ]
  },
  {
   "cell_type": "code",
   "execution_count": null,
   "metadata": {},
   "outputs": [],
   "source": []
  },
  {
   "cell_type": "code",
   "execution_count": 2,
   "metadata": {
    "scrolled": true
   },
   "outputs": [],
   "source": [
    "openers=['rohit','shikhar','kl','ajinkya']"
   ]
  },
  {
   "cell_type": "code",
   "execution_count": 3,
   "metadata": {},
   "outputs": [],
   "source": [
    "open_0=pd.read_csv('dataset/'+openers[0]+'.csv')\n",
    "open_1=pd.read_csv('dataset/'+openers[1]+'.csv')\n",
    "open_2=pd.read_csv('dataset/'+openers[2]+'.csv')\n",
    "open_3=pd.read_csv('dataset/'+openers[3]+'.csv')"
   ]
  },
  {
   "cell_type": "code",
   "execution_count": 4,
   "metadata": {},
   "outputs": [
    {
     "data": {
      "text/html": [
       "<div>\n",
       "<style scoped>\n",
       "    .dataframe tbody tr th:only-of-type {\n",
       "        vertical-align: middle;\n",
       "    }\n",
       "\n",
       "    .dataframe tbody tr th {\n",
       "        vertical-align: top;\n",
       "    }\n",
       "\n",
       "    .dataframe thead th {\n",
       "        text-align: right;\n",
       "    }\n",
       "</style>\n",
       "<table border=\"1\" class=\"dataframe\">\n",
       "  <thead>\n",
       "    <tr style=\"text-align: right;\">\n",
       "      <th></th>\n",
       "      <th>Date</th>\n",
       "      <th>Versus</th>\n",
       "      <th>Ground</th>\n",
       "      <th>How Dismissed</th>\n",
       "      <th>Runs</th>\n",
       "      <th>S/R</th>\n",
       "      <th>catches</th>\n",
       "      <th>aggregate</th>\n",
       "      <th>catches_wk</th>\n",
       "      <th>stumping_wk</th>\n",
       "      <th>agg_wk</th>\n",
       "      <th>age</th>\n",
       "      <th>who_dismissed</th>\n",
       "      <th>played_city</th>\n",
       "      <th>played_country</th>\n",
       "    </tr>\n",
       "  </thead>\n",
       "  <tbody>\n",
       "    <tr>\n",
       "      <th>0</th>\n",
       "      <td>2007-06-23</td>\n",
       "      <td>Ireland</td>\n",
       "      <td>Civil Service Cricket Club</td>\n",
       "      <td>did not bat</td>\n",
       "      <td>NaN</td>\n",
       "      <td>0.00</td>\n",
       "      <td>1</td>\n",
       "      <td>1</td>\n",
       "      <td>0.0</td>\n",
       "      <td>0.0</td>\n",
       "      <td>0.0</td>\n",
       "      <td>20</td>\n",
       "      <td>0</td>\n",
       "      <td>Belfast</td>\n",
       "      <td>Ireland</td>\n",
       "    </tr>\n",
       "    <tr>\n",
       "      <th>1</th>\n",
       "      <td>2007-06-26</td>\n",
       "      <td>South Africa</td>\n",
       "      <td>Civil Service Cricket Club</td>\n",
       "      <td>b J H Kallis</td>\n",
       "      <td>8.0</td>\n",
       "      <td>88.89</td>\n",
       "      <td>1</td>\n",
       "      <td>2</td>\n",
       "      <td>0.0</td>\n",
       "      <td>0.0</td>\n",
       "      <td>0.0</td>\n",
       "      <td>20</td>\n",
       "      <td>J H Kallis</td>\n",
       "      <td>Belfast</td>\n",
       "      <td>Ireland</td>\n",
       "    </tr>\n",
       "  </tbody>\n",
       "</table>\n",
       "</div>"
      ],
      "text/plain": [
       "         Date        Versus                      Ground How Dismissed  Runs  \\\n",
       "0  2007-06-23       Ireland  Civil Service Cricket Club   did not bat   NaN   \n",
       "1  2007-06-26  South Africa  Civil Service Cricket Club  b J H Kallis   8.0   \n",
       "\n",
       "     S/R  catches  aggregate  catches_wk  stumping_wk  agg_wk  age  \\\n",
       "0   0.00        1          1         0.0          0.0     0.0   20   \n",
       "1  88.89        1          2         0.0          0.0     0.0   20   \n",
       "\n",
       "  who_dismissed played_city played_country  \n",
       "0             0     Belfast        Ireland  \n",
       "1    J H Kallis     Belfast        Ireland  "
      ]
     },
     "execution_count": 4,
     "metadata": {},
     "output_type": "execute_result"
    }
   ],
   "source": [
    "open_0.head(2)"
   ]
  },
  {
   "cell_type": "code",
   "execution_count": 5,
   "metadata": {
    "scrolled": true
   },
   "outputs": [
    {
     "data": {
      "text/html": [
       "<div>\n",
       "<style scoped>\n",
       "    .dataframe tbody tr th:only-of-type {\n",
       "        vertical-align: middle;\n",
       "    }\n",
       "\n",
       "    .dataframe tbody tr th {\n",
       "        vertical-align: top;\n",
       "    }\n",
       "\n",
       "    .dataframe thead th {\n",
       "        text-align: right;\n",
       "    }\n",
       "</style>\n",
       "<table border=\"1\" class=\"dataframe\">\n",
       "  <thead>\n",
       "    <tr style=\"text-align: right;\">\n",
       "      <th></th>\n",
       "      <th>Date</th>\n",
       "      <th>Versus</th>\n",
       "      <th>Ground</th>\n",
       "      <th>How Dismissed</th>\n",
       "      <th>Runs</th>\n",
       "      <th>S/R</th>\n",
       "      <th>catches</th>\n",
       "      <th>aggregate</th>\n",
       "      <th>catches_wk</th>\n",
       "      <th>stumping_wk</th>\n",
       "      <th>agg_wk</th>\n",
       "      <th>age</th>\n",
       "      <th>who_dismissed</th>\n",
       "      <th>played_city</th>\n",
       "      <th>played_country</th>\n",
       "    </tr>\n",
       "  </thead>\n",
       "  <tbody>\n",
       "    <tr>\n",
       "      <th>0</th>\n",
       "      <td>2010-10-20</td>\n",
       "      <td>Australia</td>\n",
       "      <td>Dr YS Rajasekhara Reddy Cricket Stadium</td>\n",
       "      <td>b C J McKay</td>\n",
       "      <td>0</td>\n",
       "      <td>0.00</td>\n",
       "      <td>0</td>\n",
       "      <td>0</td>\n",
       "      <td>0.0</td>\n",
       "      <td>0.0</td>\n",
       "      <td>0.0</td>\n",
       "      <td>24</td>\n",
       "      <td>C J McKay</td>\n",
       "      <td>Visakhapatnam</td>\n",
       "      <td>India</td>\n",
       "    </tr>\n",
       "    <tr>\n",
       "      <th>1</th>\n",
       "      <td>2013-11-24</td>\n",
       "      <td>West Indies</td>\n",
       "      <td>Dr YS Rajasekhara Reddy Cricket Stadium</td>\n",
       "      <td>lbw b V Permaul</td>\n",
       "      <td>35</td>\n",
       "      <td>94.59</td>\n",
       "      <td>1</td>\n",
       "      <td>11</td>\n",
       "      <td>0.0</td>\n",
       "      <td>0.0</td>\n",
       "      <td>0.0</td>\n",
       "      <td>27</td>\n",
       "      <td>V Permaul</td>\n",
       "      <td>Visakhapatnam</td>\n",
       "      <td>India</td>\n",
       "    </tr>\n",
       "  </tbody>\n",
       "</table>\n",
       "</div>"
      ],
      "text/plain": [
       "         Date       Versus                                   Ground  \\\n",
       "0  2010-10-20    Australia  Dr YS Rajasekhara Reddy Cricket Stadium   \n",
       "1  2013-11-24  West Indies  Dr YS Rajasekhara Reddy Cricket Stadium   \n",
       "\n",
       "     How Dismissed  Runs    S/R  catches  aggregate  catches_wk  stumping_wk  \\\n",
       "0      b C J McKay     0   0.00        0          0         0.0          0.0   \n",
       "1  lbw b V Permaul    35  94.59        1         11         0.0          0.0   \n",
       "\n",
       "   agg_wk  age who_dismissed    played_city played_country  \n",
       "0     0.0   24     C J McKay  Visakhapatnam          India  \n",
       "1     0.0   27     V Permaul  Visakhapatnam          India  "
      ]
     },
     "execution_count": 5,
     "metadata": {},
     "output_type": "execute_result"
    }
   ],
   "source": [
    "open_1.head(2)"
   ]
  },
  {
   "cell_type": "code",
   "execution_count": 6,
   "metadata": {
    "scrolled": true
   },
   "outputs": [
    {
     "data": {
      "text/html": [
       "<div>\n",
       "<style scoped>\n",
       "    .dataframe tbody tr th:only-of-type {\n",
       "        vertical-align: middle;\n",
       "    }\n",
       "\n",
       "    .dataframe tbody tr th {\n",
       "        vertical-align: top;\n",
       "    }\n",
       "\n",
       "    .dataframe thead th {\n",
       "        text-align: right;\n",
       "    }\n",
       "</style>\n",
       "<table border=\"1\" class=\"dataframe\">\n",
       "  <thead>\n",
       "    <tr style=\"text-align: right;\">\n",
       "      <th></th>\n",
       "      <th>Date</th>\n",
       "      <th>Versus</th>\n",
       "      <th>Ground</th>\n",
       "      <th>How Dismissed</th>\n",
       "      <th>Runs</th>\n",
       "      <th>S/R</th>\n",
       "      <th>catches</th>\n",
       "      <th>aggregate</th>\n",
       "      <th>catches_wk</th>\n",
       "      <th>stumping_wk</th>\n",
       "      <th>agg_wk</th>\n",
       "      <th>age</th>\n",
       "      <th>who_dismissed</th>\n",
       "      <th>played_city</th>\n",
       "      <th>played_country</th>\n",
       "    </tr>\n",
       "  </thead>\n",
       "  <tbody>\n",
       "    <tr>\n",
       "      <th>0</th>\n",
       "      <td>2016-11-06</td>\n",
       "      <td>Zimbabwe</td>\n",
       "      <td>Harare Sports Club</td>\n",
       "      <td>not out</td>\n",
       "      <td>100.0</td>\n",
       "      <td>86.96</td>\n",
       "      <td>1</td>\n",
       "      <td>1</td>\n",
       "      <td>0.0</td>\n",
       "      <td>0.0</td>\n",
       "      <td>0.0</td>\n",
       "      <td>24</td>\n",
       "      <td>0</td>\n",
       "      <td>Harare</td>\n",
       "      <td>Zimbabwe</td>\n",
       "    </tr>\n",
       "    <tr>\n",
       "      <th>1</th>\n",
       "      <td>2016-06-13</td>\n",
       "      <td>Zimbabwe</td>\n",
       "      <td>Harare Sports Club</td>\n",
       "      <td>b C J Chibhabha</td>\n",
       "      <td>33.0</td>\n",
       "      <td>66.00</td>\n",
       "      <td>0</td>\n",
       "      <td>1</td>\n",
       "      <td>0.0</td>\n",
       "      <td>0.0</td>\n",
       "      <td>0.0</td>\n",
       "      <td>24</td>\n",
       "      <td>C J Chibhabha</td>\n",
       "      <td>Harare</td>\n",
       "      <td>Zimbabwe</td>\n",
       "    </tr>\n",
       "  </tbody>\n",
       "</table>\n",
       "</div>"
      ],
      "text/plain": [
       "         Date    Versus              Ground    How Dismissed   Runs    S/R  \\\n",
       "0  2016-11-06  Zimbabwe  Harare Sports Club          not out  100.0  86.96   \n",
       "1  2016-06-13  Zimbabwe  Harare Sports Club  b C J Chibhabha   33.0  66.00   \n",
       "\n",
       "   catches  aggregate  catches_wk  stumping_wk  agg_wk  age  who_dismissed  \\\n",
       "0        1          1         0.0          0.0     0.0   24              0   \n",
       "1        0          1         0.0          0.0     0.0   24  C J Chibhabha   \n",
       "\n",
       "  played_city played_country  \n",
       "0      Harare       Zimbabwe  \n",
       "1      Harare       Zimbabwe  "
      ]
     },
     "execution_count": 6,
     "metadata": {},
     "output_type": "execute_result"
    }
   ],
   "source": [
    "open_2.head(2)"
   ]
  },
  {
   "cell_type": "code",
   "execution_count": 7,
   "metadata": {},
   "outputs": [
    {
     "data": {
      "text/html": [
       "<div>\n",
       "<style scoped>\n",
       "    .dataframe tbody tr th:only-of-type {\n",
       "        vertical-align: middle;\n",
       "    }\n",
       "\n",
       "    .dataframe tbody tr th {\n",
       "        vertical-align: top;\n",
       "    }\n",
       "\n",
       "    .dataframe thead th {\n",
       "        text-align: right;\n",
       "    }\n",
       "</style>\n",
       "<table border=\"1\" class=\"dataframe\">\n",
       "  <thead>\n",
       "    <tr style=\"text-align: right;\">\n",
       "      <th></th>\n",
       "      <th>Date</th>\n",
       "      <th>Versus</th>\n",
       "      <th>Ground</th>\n",
       "      <th>How Dismissed</th>\n",
       "      <th>Runs</th>\n",
       "      <th>S/R</th>\n",
       "      <th>catches</th>\n",
       "      <th>aggregate</th>\n",
       "      <th>catches_wk</th>\n",
       "      <th>stumping_wk</th>\n",
       "      <th>agg_wk</th>\n",
       "      <th>age</th>\n",
       "      <th>who_dismissed</th>\n",
       "      <th>played_city</th>\n",
       "      <th>played_country</th>\n",
       "    </tr>\n",
       "  </thead>\n",
       "  <tbody>\n",
       "    <tr>\n",
       "      <th>0</th>\n",
       "      <td>2011-03-09</td>\n",
       "      <td>England</td>\n",
       "      <td>Riverside Ground</td>\n",
       "      <td>c S R Patel b S C J Broad</td>\n",
       "      <td>40.0</td>\n",
       "      <td>90.91</td>\n",
       "      <td>0</td>\n",
       "      <td>0</td>\n",
       "      <td>0.0</td>\n",
       "      <td>0.0</td>\n",
       "      <td>0.0</td>\n",
       "      <td>23</td>\n",
       "      <td>S C J Broad</td>\n",
       "      <td>Chester-Le-Street</td>\n",
       "      <td>England</td>\n",
       "    </tr>\n",
       "    <tr>\n",
       "      <th>1</th>\n",
       "      <td>2011-09-09</td>\n",
       "      <td>England</td>\n",
       "      <td>Kennington Oval</td>\n",
       "      <td>c I J L Trott b J M Anderson</td>\n",
       "      <td>0.0</td>\n",
       "      <td>0.00</td>\n",
       "      <td>0</td>\n",
       "      <td>0</td>\n",
       "      <td>0.0</td>\n",
       "      <td>0.0</td>\n",
       "      <td>0.0</td>\n",
       "      <td>23</td>\n",
       "      <td>J M Anderson</td>\n",
       "      <td>London</td>\n",
       "      <td>England</td>\n",
       "    </tr>\n",
       "  </tbody>\n",
       "</table>\n",
       "</div>"
      ],
      "text/plain": [
       "         Date   Versus            Ground                 How Dismissed  Runs  \\\n",
       "0  2011-03-09  England  Riverside Ground     c S R Patel b S C J Broad  40.0   \n",
       "1  2011-09-09  England   Kennington Oval  c I J L Trott b J M Anderson   0.0   \n",
       "\n",
       "     S/R  catches  aggregate  catches_wk  stumping_wk  agg_wk  age  \\\n",
       "0  90.91        0          0         0.0          0.0     0.0   23   \n",
       "1   0.00        0          0         0.0          0.0     0.0   23   \n",
       "\n",
       "  who_dismissed        played_city played_country  \n",
       "0   S C J Broad  Chester-Le-Street        England  \n",
       "1  J M Anderson             London        England  "
      ]
     },
     "execution_count": 7,
     "metadata": {},
     "output_type": "execute_result"
    }
   ],
   "source": [
    "open_3.head(2)"
   ]
  },
  {
   "cell_type": "code",
   "execution_count": 8,
   "metadata": {},
   "outputs": [],
   "source": [
    "#creates df for games played in england\n",
    "def in_england(df):\n",
    "    df_eng=df[df['played_country']=='England']\n",
    "    runs=df_eng['Runs'].sum()\n",
    "    avg=runs/df_eng['Runs'].count()\n",
    "    avg_srate=(df_eng['S/R'].sum())/df_eng['S/R'].count()\n",
    "    return(df_eng,runs,avg,avg_srate)"
   ]
  },
  {
   "cell_type": "code",
   "execution_count": 9,
   "metadata": {},
   "outputs": [],
   "source": [
    "opener_0_eng,opener_0_eng_runs,opener_0_eng_avg,opener_0_eng_srate=in_england(open_0)\n",
    "opener_1_eng,opener_1_eng_runs,opener_1_eng_avg,opener_1_eng_srate=in_england(open_1)\n",
    "opener_2_eng,opener_2_eng_runs,opener_2_eng_avg,opener_2_eng_srate=in_england(open_2)\n",
    "opener_3_eng,opener_3_eng_runs,opener_3_eng_avg,opener_3_eng_srate=in_england(open_3)"
   ]
  },
  {
   "cell_type": "code",
   "execution_count": 10,
   "metadata": {},
   "outputs": [],
   "source": [
    "#Find all of the wicket takers for particular batsman\n",
    "def wicket_takers(df):\n",
    "    s=df['who_dismissed'].value_counts()\n",
    "    return(np.array(s.index),s.values)"
   ]
  },
  {
   "cell_type": "code",
   "execution_count": 11,
   "metadata": {},
   "outputs": [],
   "source": [
    "opener_0_eng_bowl,opener_0_eng_times=wicket_takers(opener_0_eng)\n",
    "opener_1_eng_bowl,opener_1_eng_times=wicket_takers(opener_1_eng)\n",
    "opener_2_eng_bowl,opener_2_eng_times=wicket_takers(opener_2_eng)\n",
    "opener_3_eng_bowl,opener_3_eng_times=wicket_takers(opener_3_eng)"
   ]
  },
  {
   "cell_type": "code",
   "execution_count": 12,
   "metadata": {},
   "outputs": [],
   "source": [
    "x=np.array([0,1,2,3])\n",
    "scores_in_eng=[opener_0_eng_runs,opener_1_eng_runs,opener_2_eng_runs,opener_3_eng_runs]\n",
    "avg_in_eng=[opener_0_eng_avg,opener_1_eng_avg,opener_2_eng_avg,opener_3_eng_avg]\n",
    "srate_in_eng=[opener_0_eng_srate,opener_1_eng_srate,opener_2_eng_srate,opener_3_eng_srate]"
   ]
  },
  {
   "cell_type": "markdown",
   "metadata": {},
   "source": [
    "## Opener's total run in england"
   ]
  },
  {
   "cell_type": "code",
   "execution_count": 13,
   "metadata": {
    "scrolled": false
   },
   "outputs": [
    {
     "data": {
      "text/plain": [
       "<matplotlib.text.Text at 0x11819d310>"
      ]
     },
     "execution_count": 13,
     "metadata": {},
     "output_type": "execute_result"
    },
    {
     "data": {
      "image/png": "[encoded data removed]",
      "text/plain": [
       "<matplotlib.figure.Figure at 0x1182021d0>"
      ]
     },
     "metadata": {
      "needs_background": "light"
     },
     "output_type": "display_data"
    }
   ],
   "source": [
    "plt.xticks(x, openers)\n",
    "plt.bar(x,scores_in_eng)\n",
    "plt.title(\"opener's total run in england\")"
   ]
  },
  {
   "cell_type": "code",
   "execution_count": 41,
   "metadata": {},
   "outputs": [
    {
     "data": {
      "text/plain": [
       "<matplotlib.axes._subplots.AxesSubplot at 0x1a1475aa90>"
      ]
     },
     "execution_count": 41,
     "metadata": {},
     "output_type": "execute_result"
    },
    {
     "data": {
      "image/png": "[encoded data removed]",
      "text/plain": [
       "<matplotlib.figure.Figure at 0x1a147712d0>"
      ]
     },
     "metadata": {},
     "output_type": "display_data"
    }
   ],
   "source": [
    "sns.violinplot(x='player',y='Runs', data=all_openers,inner=None,color='lightgray')\n",
    "sns.stripplot(x='player',y='Runs',data=all_openers,jitter=True,size=5)"
   ]
  },
  {
   "cell_type": "code",
   "execution_count": 32,
   "metadata": {},
   "outputs": [
    {
     "name": "stderr",
     "output_type": "stream",
     "text": [
      "/Users/onion8/miniconda3/lib/python2.7/site-packages/ipykernel_launcher.py:1: SettingWithCopyWarning: \n",
      "A value is trying to be set on a copy of a slice from a DataFrame.\n",
      "Try using .loc[row_indexer,col_indexer] = value instead\n",
      "\n",
      "See the caveats in the documentation: http://pandas.pydata.org/pandas-docs/stable/indexing.html#indexing-view-versus-copy\n",
      "  \"\"\"Entry point for launching an IPython kernel.\n",
      "/Users/onion8/miniconda3/lib/python2.7/site-packages/ipykernel_launcher.py:2: SettingWithCopyWarning: \n",
      "A value is trying to be set on a copy of a slice from a DataFrame.\n",
      "Try using .loc[row_indexer,col_indexer] = value instead\n",
      "\n",
      "See the caveats in the documentation: http://pandas.pydata.org/pandas-docs/stable/indexing.html#indexing-view-versus-copy\n",
      "  \n",
      "/Users/onion8/miniconda3/lib/python2.7/site-packages/ipykernel_launcher.py:3: SettingWithCopyWarning: \n",
      "A value is trying to be set on a copy of a slice from a DataFrame.\n",
      "Try using .loc[row_indexer,col_indexer] = value instead\n",
      "\n",
      "See the caveats in the documentation: http://pandas.pydata.org/pandas-docs/stable/indexing.html#indexing-view-versus-copy\n",
      "  This is separate from the ipykernel package so we can avoid doing imports until\n",
      "/Users/onion8/miniconda3/lib/python2.7/site-packages/ipykernel_launcher.py:4: SettingWithCopyWarning: \n",
      "A value is trying to be set on a copy of a slice from a DataFrame.\n",
      "Try using .loc[row_indexer,col_indexer] = value instead\n",
      "\n",
      "See the caveats in the documentation: http://pandas.pydata.org/pandas-docs/stable/indexing.html#indexing-view-versus-copy\n",
      "  after removing the cwd from sys.path.\n"
     ]
    }
   ],
   "source": [
    "opener_0_eng['player']=openers[0]\n",
    "opener_1_eng['player']=openers[1]\n",
    "opener_2_eng['player']=openers[2]\n",
    "opener_3_eng['player']=openers[3]"
   ]
  },
  {
   "cell_type": "code",
   "execution_count": 38,
   "metadata": {},
   "outputs": [],
   "source": [
    "all_openers=pd.concat([opener_0_eng, opener_1_eng,opener_2_eng,opener_3_eng], ignore_index=True)"
   ]
  },
  {
   "cell_type": "code",
   "execution_count": 39,
   "metadata": {
    "scrolled": true
   },
   "outputs": [
    {
     "data": {
      "text/html": [
       "<div>\n",
       "<style scoped>\n",
       "    .dataframe tbody tr th:only-of-type {\n",
       "        vertical-align: middle;\n",
       "    }\n",
       "\n",
       "    .dataframe tbody tr th {\n",
       "        vertical-align: top;\n",
       "    }\n",
       "\n",
       "    .dataframe thead th {\n",
       "        text-align: right;\n",
       "    }\n",
       "</style>\n",
       "<table border=\"1\" class=\"dataframe\">\n",
       "  <thead>\n",
       "    <tr style=\"text-align: right;\">\n",
       "      <th></th>\n",
       "      <th>Date</th>\n",
       "      <th>Versus</th>\n",
       "      <th>Ground</th>\n",
       "      <th>How Dismissed</th>\n",
       "      <th>Runs</th>\n",
       "      <th>S/R</th>\n",
       "      <th>catches</th>\n",
       "      <th>aggregate</th>\n",
       "      <th>catches_wk</th>\n",
       "      <th>stumping_wk</th>\n",
       "      <th>agg_wk</th>\n",
       "      <th>age</th>\n",
       "      <th>who_dismissed</th>\n",
       "      <th>played_city</th>\n",
       "      <th>played_country</th>\n",
       "      <th>player</th>\n",
       "    </tr>\n",
       "  </thead>\n",
       "  <tbody>\n",
       "    <tr>\n",
       "      <th>0</th>\n",
       "      <td>2011-03-09</td>\n",
       "      <td>England</td>\n",
       "      <td>Riverside Ground</td>\n",
       "      <td>retired hurt</td>\n",
       "      <td>0.0</td>\n",
       "      <td>0.00</td>\n",
       "      <td>0</td>\n",
       "      <td>25</td>\n",
       "      <td>0.0</td>\n",
       "      <td>0.0</td>\n",
       "      <td>0.0</td>\n",
       "      <td>24</td>\n",
       "      <td>0</td>\n",
       "      <td>0</td>\n",
       "      <td>England</td>\n",
       "      <td>rohit</td>\n",
       "    </tr>\n",
       "    <tr>\n",
       "      <th>1</th>\n",
       "      <td>2013-11-06</td>\n",
       "      <td>West Indies</td>\n",
       "      <td>Kennington Oval</td>\n",
       "      <td>c †J Charles b S P Narine</td>\n",
       "      <td>52.0</td>\n",
       "      <td>92.86</td>\n",
       "      <td>0</td>\n",
       "      <td>32</td>\n",
       "      <td>0.0</td>\n",
       "      <td>0.0</td>\n",
       "      <td>0.0</td>\n",
       "      <td>26</td>\n",
       "      <td>S P Narine</td>\n",
       "      <td>London</td>\n",
       "      <td>England</td>\n",
       "      <td>rohit</td>\n",
       "    </tr>\n",
       "  </tbody>\n",
       "</table>\n",
       "</div>"
      ],
      "text/plain": [
       "         Date       Versus            Ground              How Dismissed  Runs  \\\n",
       "0  2011-03-09      England  Riverside Ground               retired hurt   0.0   \n",
       "1  2013-11-06  West Indies   Kennington Oval  c †J Charles b S P Narine  52.0   \n",
       "\n",
       "     S/R  catches  aggregate  catches_wk  stumping_wk  agg_wk  age  \\\n",
       "0   0.00        0         25         0.0          0.0     0.0   24   \n",
       "1  92.86        0         32         0.0          0.0     0.0   26   \n",
       "\n",
       "  who_dismissed played_city played_country player  \n",
       "0             0           0        England  rohit  \n",
       "1    S P Narine      London        England  rohit  "
      ]
     },
     "execution_count": 39,
     "metadata": {},
     "output_type": "execute_result"
    }
   ],
   "source": [
    "all_openers.head(2)"
   ]
  },
  {
   "cell_type": "code",
   "execution_count": 40,
   "metadata": {
    "scrolled": true
   },
   "outputs": [
    {
     "data": {
      "text/plain": [
       "<matplotlib.axes._subplots.AxesSubplot at 0x1a146241d0>"
      ]
     },
     "execution_count": 40,
     "metadata": {},
     "output_type": "execute_result"
    },
    {
     "data": {
      "image/png": "[encoded data removed]",
      "text/plain": [
       "<matplotlib.figure.Figure at 0x1a144b2250>"
      ]
     },
     "metadata": {},
     "output_type": "display_data"
    }
   ],
   "source": [
    "sns.violinplot(x='Ground',y='Runs', data=two_openers,inner=None,color='lightgray')\n",
    "sns.stripplot(x='Ground',y='Runs',data=two_openers,jitter=True,size=5,hue='player')"
   ]
  },
  {
   "cell_type": "markdown",
   "metadata": {},
   "source": [
    "## Opener's avg in england"
   ]
  },
  {
   "cell_type": "code",
   "execution_count": 14,
   "metadata": {
    "scrolled": true
   },
   "outputs": [
    {
     "data": {
      "text/plain": [
       "<matplotlib.text.Text at 0x118385bd0>"
      ]
     },
     "execution_count": 14,
     "metadata": {},
     "output_type": "execute_result"
    },
    {
     "data": {
      "image/png": "[encoded data removed]",
      "text/plain": [
       "<matplotlib.figure.Figure at 0x118202a90>"
      ]
     },
     "metadata": {
      "needs_background": "light"
     },
     "output_type": "display_data"
    }
   ],
   "source": [
    "plt.xticks(x, openers)\n",
    "plt.bar(x,avg_in_eng)\n",
    "plt.title(\"opener's avg in england\")"
   ]
  },
  {
   "cell_type": "code",
   "execution_count": null,
   "metadata": {},
   "outputs": [],
   "source": [
    "sns.violinplot(x='player',y=(('Runs')/len()), data=all_openers,inner=None,color='lightgray')\n",
    "sns.stripplot(x='player',y='Runs',data=all_openers,jitter=True,size=5)"
   ]
  },
  {
   "cell_type": "markdown",
   "metadata": {},
   "source": [
    "## Opener's S/R in england"
   ]
  },
  {
   "cell_type": "code",
   "execution_count": 15,
   "metadata": {},
   "outputs": [
    {
     "data": {
      "text/plain": [
       "<matplotlib.text.Text at 0x1184ade10>"
      ]
     },
     "execution_count": 15,
     "metadata": {},
     "output_type": "execute_result"
    },
    {
     "data": {
      "image/png": "[encoded data removed]",
      "text/plain": [
       "<matplotlib.figure.Figure at 0x1183f32d0>"
      ]
     },
     "metadata": {
      "needs_background": "light"
     },
     "output_type": "display_data"
    }
   ],
   "source": [
    "plt.xticks(x, openers)\n",
    "plt.bar(x,srate_in_eng)\n",
    "plt.title(\"opener's S/R in england\")"
   ]
  },
  {
   "cell_type": "code",
   "execution_count": 16,
   "metadata": {},
   "outputs": [],
   "source": [
    "#plots all the wicket takers for a particular batsman\n",
    "def wickets_taken(bowlers,times,i,j):\n",
    "    x=np.arange(len(bowlers))\n",
    "    plt.xticks(x, bowlers)\n",
    "    plt.bar(x,times)\n",
    "    plt.tick_params(axis='x', which='major', labelsize=j)\n",
    "    plt.tight_layout()\n",
    "    plt.title(openers[i]+\" wicket taken by\")\n"
   ]
  },
  {
   "cell_type": "code",
   "execution_count": 59,
   "metadata": {},
   "outputs": [
    {
     "data": {
      "text/plain": [
       "<matplotlib.axes._subplots.AxesSubplot at 0x1a14eeeb50>"
      ]
     },
     "execution_count": 59,
     "metadata": {},
     "output_type": "execute_result"
    },
    {
     "data": {
      "image/png": "[encoded data removed]",
      "text/plain": [
       "<matplotlib.figure.Figure at 0x1a14ea5150>"
      ]
     },
     "metadata": {},
     "output_type": "display_data"
    }
   ],
   "source": [
    "sns.violinplot(x='Ground',y='S/R', data=all_openers,inner=None,color='lightgray')\n",
    "sns.stripplot(x='Ground',y='S/R',data=all_openers,jitter=True,size=5,hue='player')\n"
   ]
  },
  {
   "cell_type": "markdown",
   "metadata": {},
   "source": [
    "## Bowlers who got Rohit out in eng"
   ]
  },
  {
   "cell_type": "code",
   "execution_count": 17,
   "metadata": {
    "scrolled": true
   },
   "outputs": [
    {
     "data": {
      "image/png": "[encoded data removed]",
      "text/plain": [
       "<matplotlib.figure.Figure at 0x1184ad290>"
      ]
     },
     "metadata": {
      "needs_background": "light"
     },
     "output_type": "display_data"
    }
   ],
   "source": [
    "wickets_taken(opener_0_eng_bowl,opener_0_eng_times,0,7)\n"
   ]
  },
  {
   "cell_type": "markdown",
   "metadata": {},
   "source": [
    "## Bowlers who got Shikhar out in eng"
   ]
  },
  {
   "cell_type": "code",
   "execution_count": 18,
   "metadata": {
    "scrolled": true
   },
   "outputs": [
    {
     "data": {
      "image/png": "[encoded data removed]",
      "text/plain": [
       "<matplotlib.figure.Figure at 0x1185c3a90>"
      ]
     },
     "metadata": {
      "needs_background": "light"
     },
     "output_type": "display_data"
    }
   ],
   "source": [
    "wickets_taken(opener_1_eng_bowl,opener_1_eng_times,1,7)\n"
   ]
  },
  {
   "cell_type": "markdown",
   "metadata": {},
   "source": [
    "## Bowlers who got KL out in eng"
   ]
  },
  {
   "cell_type": "code",
   "execution_count": 19,
   "metadata": {
    "scrolled": true
   },
   "outputs": [
    {
     "data": {
      "image/png": "[encoded data removed]",
      "text/plain": [
       "<matplotlib.figure.Figure at 0x118786bd0>"
      ]
     },
     "metadata": {
      "needs_background": "light"
     },
     "output_type": "display_data"
    }
   ],
   "source": [
    "wickets_taken(opener_2_eng_bowl,opener_2_eng_times,2,7)\n"
   ]
  },
  {
   "cell_type": "markdown",
   "metadata": {},
   "source": [
    "## Bowlers who got Rahane out in eng\n"
   ]
  },
  {
   "cell_type": "code",
   "execution_count": 20,
   "metadata": {
    "scrolled": false
   },
   "outputs": [
    {
     "data": {
      "image/png": "[encoded data removed]",
      "text/plain": [
       "<matplotlib.figure.Figure at 0x11882b750>"
      ]
     },
     "metadata": {
      "needs_background": "light"
     },
     "output_type": "display_data"
    }
   ],
   "source": [
    "wickets_taken(opener_3_eng_bowl,opener_3_eng_times,3,7)"
   ]
  },
  {
   "cell_type": "code",
   "execution_count": null,
   "metadata": {},
   "outputs": [],
   "source": []
  },
  {
   "cell_type": "code",
   "execution_count": 21,
   "metadata": {},
   "outputs": [],
   "source": [
    "#finds favt ground for the batsman depending on their scores\n",
    "def favt_grnd(df):\n",
    "    grp=df.groupby('Ground')\n",
    "    ru=(([grp['Runs'].sum()/grp['Runs'].count()]))\n",
    "    s= (max(ru).sort_values(ascending=False))\n",
    "    return(s.index[0],s[0])\n",
    " \n"
   ]
  },
  {
   "cell_type": "code",
   "execution_count": 22,
   "metadata": {},
   "outputs": [],
   "source": [
    "opener_0_favt_grnd,opener_0_favt_avg=favt_grnd(opener_0_eng)\n",
    "opener_1_favt_grnd,opener_1_favt_avg=favt_grnd(opener_1_eng)\n",
    "opener_2_favt_grnd,opener_2_favt_avg=favt_grnd(opener_2_eng)\n",
    "opener_3_favt_grnd,opener_3_favt_avg=favt_grnd(opener_3_eng)"
   ]
  },
  {
   "cell_type": "markdown",
   "metadata": {},
   "source": [
    "Favt grounds in England for the openers "
   ]
  },
  {
   "cell_type": "code",
   "execution_count": 60,
   "metadata": {},
   "outputs": [
    {
     "data": {
      "text/plain": [
       "<matplotlib.axes._subplots.AxesSubplot at 0x1a14ea5310>"
      ]
     },
     "execution_count": 60,
     "metadata": {},
     "output_type": "execute_result"
    },
    {
     "data": {
      "image/png": "[encoded data removed]",
      "text/plain": [
       "<matplotlib.figure.Figure at 0x1a1516bf90>"
      ]
     },
     "metadata": {},
     "output_type": "display_data"
    }
   ],
   "source": [
    "sns.violinplot(x='Ground',y='Runs', data=all_openers,inner=None,color='lightgray')\n",
    "sns.stripplot(x='Ground',y='Runs',data=all_openers,jitter=True,size=5,hue='player')"
   ]
  },
  {
   "cell_type": "code",
   "execution_count": 23,
   "metadata": {
    "scrolled": false
   },
   "outputs": [
    {
     "name": "stdout",
     "output_type": "stream",
     "text": [
      "rohit loves Edgbaston in england as he scores there at an avg of 60.25\n"
     ]
    }
   ],
   "source": [
    "print(openers[0]+' loves '+opener_0_favt_grnd+' in england as he scores there at an avg of '+ str(opener_0_favt_avg ))"
   ]
  },
  {
   "cell_type": "code",
   "execution_count": 24,
   "metadata": {},
   "outputs": [
    {
     "name": "stdout",
     "output_type": "stream",
     "text": [
      "shikhar loves Kennington Oval in england as he scores there at an avg of 81.5\n"
     ]
    }
   ],
   "source": [
    "print(openers[1]+' loves '+opener_1_favt_grnd+' in england as he scores there at an avg of '+ str(opener_1_favt_avg ))"
   ]
  },
  {
   "cell_type": "code",
   "execution_count": 25,
   "metadata": {},
   "outputs": [
    {
     "name": "stdout",
     "output_type": "stream",
     "text": [
      "kl loves Lord's in england as he scores there at an avg of 0.0\n"
     ]
    }
   ],
   "source": [
    "print(openers[2]+' loves '+opener_2_favt_grnd+' in england as he scores there at an avg of '+ str(opener_2_favt_avg ))"
   ]
  },
  {
   "cell_type": "code",
   "execution_count": 26,
   "metadata": {
    "scrolled": true
   },
   "outputs": [
    {
     "name": "stdout",
     "output_type": "stream",
     "text": [
      "ajinkya loves Edgbaston in england as he scores there at an avg of 106.0\n"
     ]
    }
   ],
   "source": [
    "print(openers[3]+' loves '+opener_3_favt_grnd+' in england as he scores there at an avg of '+ str(opener_3_favt_avg ))"
   ]
  },
  {
   "cell_type": "markdown",
   "metadata": {},
   "source": [
    "## Performance analysis of openers overseas against top 5 teams"
   ]
  },
  {
   "cell_type": "code",
   "execution_count": 63,
   "metadata": {},
   "outputs": [],
   "source": [
    "top5_teams = ['England','New Zealand','South Africa','Australia','Pakistan']"
   ]
  },
  {
   "cell_type": "code",
   "execution_count": 64,
   "metadata": {},
   "outputs": [],
   "source": [
    "#creates df for a batsman against top5 teams  overseas\n",
    "def against_top_5(df):\n",
    "    df=(df[(df['Versus'].isin(top5_teams))])\n",
    "    df=(df[(df['played_country']!=('India'))])\n",
    "    return(df)"
   ]
  },
  {
   "cell_type": "code",
   "execution_count": 65,
   "metadata": {},
   "outputs": [],
   "source": [
    "open_0_top_5=against_top_5(open_0)\n",
    "open_1_top_5=against_top_5(open_1)\n",
    "open_2_top_5=against_top_5(open_2)\n",
    "open_3_top_5=against_top_5(open_3)"
   ]
  },
  {
   "cell_type": "code",
   "execution_count": 66,
   "metadata": {},
   "outputs": [],
   "source": [
    "opener_0_top5_bowl,opener_0_top5_times=wicket_takers(open_0_top_5)\n",
    "opener_1_top5_bowl,opener_1_top5_times=wicket_takers(open_1_top_5)\n",
    "opener_2_top5_bowl,opener_2_top5_times=wicket_takers(open_2_top_5)\n",
    "opener_3_top5_bowl,opener_3_top5_times=wicket_takers(open_3_top_5)"
   ]
  },
  {
   "cell_type": "code",
   "execution_count": 67,
   "metadata": {},
   "outputs": [],
   "source": [
    "open_0_top_5['player']=openers[0]\n",
    "open_1_top_5['player']=openers[1]\n",
    "open_2_top_5['player']=openers[2]\n",
    "open_3_top_5['player']=openers[3]"
   ]
  },
  {
   "cell_type": "code",
   "execution_count": 68,
   "metadata": {},
   "outputs": [],
   "source": [
    "all_openers_top5=pd.concat([open_0_top_5, open_1_top_5,open_2_top_5,open_3_top_5], ignore_index=True)"
   ]
  },
  {
   "cell_type": "markdown",
   "metadata": {},
   "source": [
    "## Bowlers who got Rohit out"
   ]
  },
  {
   "cell_type": "code",
   "execution_count": 31,
   "metadata": {
    "scrolled": true
   },
   "outputs": [
    {
     "data": {
      "image/png": "[encoded data removed]",
      "text/plain": [
       "<matplotlib.figure.Figure at 0x118923250>"
      ]
     },
     "metadata": {
      "needs_background": "light"
     },
     "output_type": "display_data"
    }
   ],
   "source": [
    "wickets_taken(opener_0_top5_bowl,opener_0_top5_times,0,4)"
   ]
  },
  {
   "cell_type": "code",
   "execution_count": 32,
   "metadata": {
    "scrolled": true
   },
   "outputs": [
    {
     "name": "stdout",
     "output_type": "stream",
     "text": [
      "rohit should take care of ['M Morkel' 'K Rabada'] as they got him [5 2] times respectively\n"
     ]
    }
   ],
   "source": [
    "print(openers[0]+' should take care of '+str(opener_0_top5_bowl[1:3])+' as they got him '+str(opener_0_top5_times[1:3])+' times respectively')"
   ]
  },
  {
   "cell_type": "markdown",
   "metadata": {},
   "source": [
    "## Bowlers who got Shikhar out"
   ]
  },
  {
   "cell_type": "code",
   "execution_count": 33,
   "metadata": {
    "scrolled": true
   },
   "outputs": [
    {
     "data": {
      "image/png": "[encoded data removed]",
      "text/plain": [
       "<matplotlib.figure.Figure at 0x118a50bd0>"
      ]
     },
     "metadata": {
      "needs_background": "light"
     },
     "output_type": "display_data"
    }
   ],
   "source": [
    "wickets_taken(opener_1_top5_bowl,opener_1_top5_times,1,4)"
   ]
  },
  {
   "cell_type": "code",
   "execution_count": 34,
   "metadata": {
    "scrolled": true
   },
   "outputs": [
    {
     "name": "stdout",
     "output_type": "stream",
     "text": [
      "shikhar should take care of ['T A Boult' 'J W Hastings'] as they got him [3 2] times respectively\n"
     ]
    }
   ],
   "source": [
    "print(openers[1]+' should take care of '+str(opener_1_top5_bowl[1:3])+' as they got him '+str(opener_1_top5_times[1:3])+' times respectively')"
   ]
  },
  {
   "cell_type": "markdown",
   "metadata": {},
   "source": [
    "## Bowlers who got Kl out"
   ]
  },
  {
   "cell_type": "code",
   "execution_count": 35,
   "metadata": {
    "scrolled": false
   },
   "outputs": [
    {
     "data": {
      "image/png": "[encoded data removed]",
      "text/plain": [
       "<matplotlib.figure.Figure at 0x118e4da90>"
      ]
     },
     "metadata": {
      "needs_background": "light"
     },
     "output_type": "display_data"
    }
   ],
   "source": [
    "wickets_taken(opener_2_top5_bowl,opener_2_top5_times,2,6)"
   ]
  },
  {
   "cell_type": "code",
   "execution_count": 36,
   "metadata": {},
   "outputs": [
    {
     "name": "stdout",
     "output_type": "stream",
     "text": [
      "kl should take care of L E Plunkett as he got him 1 times\n"
     ]
    }
   ],
   "source": [
    "print(openers[2]+' should take care of '+str(opener_2_top5_bowl[0])+' as he got him '+str(opener_2_top5_times[0])+' times')"
   ]
  },
  {
   "cell_type": "markdown",
   "metadata": {},
   "source": [
    "## Bowlers who got Rahane out"
   ]
  },
  {
   "cell_type": "code",
   "execution_count": 37,
   "metadata": {
    "scrolled": true
   },
   "outputs": [
    {
     "data": {
      "image/png": "[encoded data removed]",
      "text/plain": [
       "<matplotlib.figure.Figure at 0x118bf24d0>"
      ]
     },
     "metadata": {
      "needs_background": "light"
     },
     "output_type": "display_data"
    }
   ],
   "source": [
    "wickets_taken(opener_3_top5_bowl,opener_3_top5_times,3,8)"
   ]
  },
  {
   "cell_type": "code",
   "execution_count": 51,
   "metadata": {
    "scrolled": true
   },
   "outputs": [
    {
     "name": "stdout",
     "output_type": "stream",
     "text": [
      "ajinkya should take care of ['S C J Broad' 'C J Anderson' 'J M Anderson' 'G S Sandhu' 'K D Mills'] as they got him [2 2 2 1 1] times respectively\n"
     ]
    }
   ],
   "source": [
    "print(openers[3]+' should take care of '+str(opener_3_top5_bowl[0:5])+' as they got him '+str(opener_3_top5_times[0:5])+' times respectively')"
   ]
  },
  {
   "cell_type": "code",
   "execution_count": 39,
   "metadata": {},
   "outputs": [],
   "source": [
    "#finds properties wrt top5 teams overseas\n",
    "def out_top5(df):\n",
    "    \n",
    "    runs=df['Runs'].sum()\n",
    "    avg=runs/df['Runs'].count()\n",
    "    avg_srate=(df['S/R'].sum())/df['S/R'].count()\n",
    "    return(runs,avg,avg_srate)"
   ]
  },
  {
   "cell_type": "code",
   "execution_count": 40,
   "metadata": {},
   "outputs": [],
   "source": [
    "opener_0_top5_runs,opener_0_top5_avg,opener_0_top5_srate=out_top5(open_0_top_5)\n",
    "opener_1_top5_runs,opener_1_top5_avg,opener_1_top5_srate=out_top5(open_1_top_5)\n",
    "opener_2_top5_runs,opener_2_top5_avg,opener_2_top5_srate=out_top5(open_2_top_5)\n",
    "opener_3_top5_runs,opener_3_top5_avg,opener_3_top5_srate=out_top5(open_3_top_5)"
   ]
  },
  {
   "cell_type": "code",
   "execution_count": 41,
   "metadata": {},
   "outputs": [],
   "source": [
    "x=np.array([0,1,2,3])\n",
    "scores=[opener_0_top5_runs,opener_1_top5_runs,opener_2_top5_runs,opener_3_top5_runs]\n",
    "avg=[opener_0_top5_avg,opener_1_top5_avg,opener_2_top5_avg,opener_3_top5_avg]\n",
    "srate=[opener_0_top5_srate,opener_1_top5_srate,opener_2_top5_srate,opener_3_top5_srate]\n",
    "\n"
   ]
  },
  {
   "cell_type": "markdown",
   "metadata": {},
   "source": [
    "## Opener's total run against top5 overseas"
   ]
  },
  {
   "cell_type": "code",
   "execution_count": 42,
   "metadata": {
    "scrolled": true
   },
   "outputs": [
    {
     "data": {
      "text/plain": [
       "<matplotlib.text.Text at 0x1183f3c50>"
      ]
     },
     "execution_count": 42,
     "metadata": {},
     "output_type": "execute_result"
    },
    {
     "data": {
      "image/png": "[encoded data removed]",
      "text/plain": [
       "<matplotlib.figure.Figure at 0x118b6fa10>"
      ]
     },
     "metadata": {
      "needs_background": "light"
     },
     "output_type": "display_data"
    }
   ],
   "source": [
    "plt.xticks(x, openers)\n",
    "plt.bar(x,scores)\n",
    "plt.title(\"opener's total run against top5 overseas\")"
   ]
  },
  {
   "cell_type": "code",
   "execution_count": 70,
   "metadata": {},
   "outputs": [
    {
     "data": {
      "text/plain": [
       "<matplotlib.axes._subplots.AxesSubplot at 0x1a13c07290>"
      ]
     },
     "execution_count": 70,
     "metadata": {},
     "output_type": "execute_result"
    },
    {
     "data": {
      "image/png": "[encoded data removed]",
      "text/plain": [
       "<matplotlib.figure.Figure at 0x1a14879810>"
      ]
     },
     "metadata": {},
     "output_type": "display_data"
    }
   ],
   "source": [
    "sns.violinplot(x='player',y='Runs', data=all_openers_top5,inner=None,color='lightgray')\n",
    "sns.stripplot(x='player',y='Runs',data=all_openers_top5,jitter=True,size=5)\n"
   ]
  },
  {
   "cell_type": "markdown",
   "metadata": {},
   "source": [
    "## Opener's avg against top5 overseas"
   ]
  },
  {
   "cell_type": "code",
   "execution_count": 43,
   "metadata": {
    "scrolled": true
   },
   "outputs": [
    {
     "data": {
      "text/plain": [
       "<matplotlib.text.Text at 0x1187e3050>"
      ]
     },
     "execution_count": 43,
     "metadata": {},
     "output_type": "execute_result"
    },
    {
     "data": {
      "image/png": "[encoded data removed]",
      "text/plain": [
       "<matplotlib.figure.Figure at 0x118d73390>"
      ]
     },
     "metadata": {
      "needs_background": "light"
     },
     "output_type": "display_data"
    }
   ],
   "source": [
    "plt.xticks(x, openers)\n",
    "plt.bar(x,avg)\n",
    "plt.title(\"opener's avg against top5 overseas\")"
   ]
  },
  {
   "cell_type": "markdown",
   "metadata": {},
   "source": [
    "## Opener's S/R against top5 overseas"
   ]
  },
  {
   "cell_type": "code",
   "execution_count": 44,
   "metadata": {
    "scrolled": false
   },
   "outputs": [
    {
     "data": {
      "text/plain": [
       "<matplotlib.text.Text at 0x11868b690>"
      ]
     },
     "execution_count": 44,
     "metadata": {},
     "output_type": "execute_result"
    },
    {
     "data": {
      "image/png": "[encoded data removed]",
      "text/plain": [
       "<matplotlib.figure.Figure at 0x118934190>"
      ]
     },
     "metadata": {
      "needs_background": "light"
     },
     "output_type": "display_data"
    }
   ],
   "source": [
    "plt.xticks(x, openers)\n",
    "plt.bar(x,srate)\n",
    "plt.title(\"opener's S/R against top5 overseas\")"
   ]
  },
  {
   "cell_type": "code",
   "execution_count": 71,
   "metadata": {},
   "outputs": [
    {
     "data": {
      "text/plain": [
       "<matplotlib.axes._subplots.AxesSubplot at 0x1a13b6ae90>"
      ]
     },
     "execution_count": 71,
     "metadata": {},
     "output_type": "execute_result"
    },
    {
     "data": {
      "image/png": "[encoded data removed]",
      "text/plain": [
       "<matplotlib.figure.Figure at 0x1a14e559d0>"
      ]
     },
     "metadata": {},
     "output_type": "display_data"
    }
   ],
   "source": [
    "sns.violinplot(x='player',y='S/R', data=all_openers_top5,inner=None,color='lightgray')\n",
    "sns.stripplot(x='player',y='S/R',data=all_openers_top5,jitter=True,size=5)"
   ]
  },
  {
   "cell_type": "code",
   "execution_count": 45,
   "metadata": {},
   "outputs": [],
   "source": [
    "#finds favt_team out of top5\n",
    "def favt_team(df):\n",
    "    grp=df.groupby('Versus')\n",
    "    ru=(([grp['Runs'].sum()/grp['Runs'].count()]))\n",
    "    s= (max(ru).sort_values(ascending=False))\n",
    "    return(s.index[0],s[0])"
   ]
  },
  {
   "cell_type": "code",
   "execution_count": 46,
   "metadata": {},
   "outputs": [],
   "source": [
    "opener_0_favt_team,opener_0_favtt_avg=favt_team(open_0_top_5)\n",
    "opener_1_favt_team,opener_1_favtt_avg=favt_team(open_1_top_5)\n",
    "opener_2_favt_team,opener_2_favtt_avg=favt_team(open_2_top_5)\n",
    "opener_3_favt_team,opener_3_favtt_avg=favt_team(open_3_top_5)"
   ]
  },
  {
   "cell_type": "code",
   "execution_count": 47,
   "metadata": {
    "scrolled": true
   },
   "outputs": [
    {
     "name": "stdout",
     "output_type": "stream",
     "text": [
      "rohit loves Pakistan  overseas as he scores at an avg of 40.77777777777778 against them\n"
     ]
    }
   ],
   "source": [
    "print(openers[0]+' loves '+opener_0_favt_team+'  overseas as he scores at an avg of '+ str(opener_0_favtt_avg ) + ' against them')"
   ]
  },
  {
   "cell_type": "code",
   "execution_count": 48,
   "metadata": {
    "scrolled": true
   },
   "outputs": [
    {
     "name": "stdout",
     "output_type": "stream",
     "text": [
      "shikhar loves South Africa  overseas  as he scores at an avg of 63.857142857142854 against them\n"
     ]
    }
   ],
   "source": [
    "print(openers[1]+' loves '+opener_1_favt_team+'  overseas  as he scores at an avg of '+ str(opener_1_favtt_avg )+ ' against them')"
   ]
  },
  {
   "cell_type": "code",
   "execution_count": 49,
   "metadata": {
    "scrolled": false
   },
   "outputs": [
    {
     "name": "stdout",
     "output_type": "stream",
     "text": [
      "kl loves England  overseas  as he scores at an avg of 0.0 against them\n"
     ]
    }
   ],
   "source": [
    "print(openers[2]+' loves '+opener_2_favt_team+'  overseas  as he scores at an avg of '+ str(opener_2_favtt_avg )+ ' against them')"
   ]
  },
  {
   "cell_type": "code",
   "execution_count": 50,
   "metadata": {},
   "outputs": [
    {
     "name": "stdout",
     "output_type": "stream",
     "text": [
      "ajinkya loves Australia  overseas  as he scores at an avg of 38.25 against them\n"
     ]
    }
   ],
   "source": [
    "print(openers[3]+' loves '+opener_3_favt_team+'  overseas  as he scores at an avg of '+ str(opener_3_favtt_avg )+ ' against them')"
   ]
  }
 ],
 "metadata": {
  "kernelspec": {
   "display_name": "Python 2",
   "language": "python",
   "name": "python2"
  },
  "language_info": {
   "codemirror_mode": {
    "name": "ipython",
    "version": 2
   },
   "file_extension": ".py",
   "mimetype": "text/x-python",
   "name": "python",
   "nbconvert_exporter": "python",
   "pygments_lexer": "ipython2",
   "version": "2.7.15"
  }
 },
 "nbformat": 4,
 "nbformat_minor": 2
}
